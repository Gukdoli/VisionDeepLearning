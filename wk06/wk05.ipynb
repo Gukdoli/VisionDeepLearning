{
 "cells": [
  {
   "cell_type": "code",
   "execution_count": 1,
   "metadata": {},
   "outputs": [
    {
     "data": {
      "text/plain": [
       "0"
      ]
     },
     "execution_count": 1,
     "metadata": {},
     "output_type": "execute_result"
    }
   ],
   "source": [
    "from PyQt5.QtWidgets import *\n",
    "import cv2 as cv\n",
    "import numpy as np\n",
    "import winsound\n",
    "import sys\n",
    "\n",
    "class Panorama(QMainWindow):\n",
    "    def __init__(self):\n",
    "        super().__init__()\n",
    "        self.setWindowTitle('파노라마 영상')\n",
    "        self.setGeometry(200,200,700,200)\n",
    "        \n",
    "        collectButton=QPushButton('영상 수집',self)\n",
    "        self.showButton=QPushButton('영상 보기',self)\n",
    "        self.stitchButton=QPushButton('봉합',self)\n",
    "        self.saveButton=QPushButton('저장',self)\n",
    "        quitButton=QPushButton('나가기',self)\n",
    "        self.label=QLabel('환영합니다.',self)\n",
    "        \n",
    "        collectButton.setGeometry(10,25,100,30)\n",
    "        self.showButton.setGeometry(110,25,100,30)\n",
    "        self.stitchButton.setGeometry(210,25,100,30)\n",
    "        self.saveButton.setGeometry(310,25,100,30)\n",
    "        quitButton.setGeometry(450,25,100,30)\n",
    "        self.label.setGeometry(10,70,600,170)\n",
    "        \n",
    "        self.showButton.setEnabled(False)\n",
    "        self.stitchButton.setEnabled(False)\n",
    "        self.saveButton.setEnabled(False)\n",
    "        \n",
    "        collectButton.clicked.connect(self.collectFunction)\n",
    "        self.showButton.clicked.connect(self.showFunction)\n",
    "        self.stitchButton.clicked.connect(self.stitchFunction)\n",
    "        self.saveButton.clicked.connect(self.saveFunction)\n",
    "        quitButton.clicked.connect(self.quitFunction)\n",
    "        \n",
    "    def collectFunction(self):\n",
    "        self.showButton.setEnabled(False)\n",
    "        self.stitchButton.setEnabled(False)\n",
    "        self.saveButton.setEnabled(False)\n",
    "        self.label.setText('c를 여러 번 눌러 수집하고 끝나면 q를 눌러 비디오를 끕니다.')\n",
    "        \n",
    "        self.cap=cv.VideoCapture(0,cv.CAP_DSHOW)\n",
    "        if not self.cap.isOpened(): sys.exit('카메라 연결 실패')\n",
    "            \n",
    "        self.imgs=[]\n",
    "        while True:\n",
    "            ret,frame=self.cap.read()\n",
    "            if not ret: break\n",
    "                \n",
    "            cv.imshow('video display',frame)\n",
    "            \n",
    "            key=cv.waitKey(1)\n",
    "            if key==ord('c'):\n",
    "                self.imgs.append(frame)\n",
    "            elif key==ord('q'):\n",
    "                self.cap.release()\n",
    "                cv.destroyWindow('video display')\n",
    "                break\n",
    "                \n",
    "            if len(self.imgs)>=2:\n",
    "                self.showButton.setEnabled(True)\n",
    "                self.stitchButton.setEnabled(True)\n",
    "                self.saveButton.setEnabled(True)\n",
    "    def showFunction(self):\n",
    "        self.label.setText('수집된 영상은'+str(len(self.imgs))+'장입니다.')\n",
    "        stack=cv.resize(self.imgs[0],dsize=(0,0),fx=0.25,fy=0.25)\n",
    "        for i in range(1,len(self.imgs)):\n",
    "            stack=np.hstack((stack,cv.resize(self.imgs[i],dsize=(0,0),fx=0.25,\n",
    "            fy=0.25)))\n",
    "        cv.imshow('Image collection',stack)\n",
    "            \n",
    "    def stitchFunction(self):\n",
    "        stitcher=cv.Stitcher_create()\n",
    "        status,self.img_stitched=stitcher.stitch(self.imgs)\n",
    "        if status==cv.STITCHER_OK:\n",
    "            cv.imshow('Image stitched panorama',self.img_stitched)\n",
    "        else:\n",
    "            winsound.Beep(3000,500)\n",
    "            self.label.setText('파노라마 제작에 실패하였습니다. 다시 시도하세요.')\n",
    "    def saveFunction(self):\n",
    "        fname=QFileDialog.getSaveFileName(self,'파일저장','./')\n",
    "        cv.imwrite(fname[0],self.img_stitched)\n",
    "            \n",
    "    def quitFunction(self):\n",
    "        self.cap.release()\n",
    "        cv.destroyAllWindows()\n",
    "        self.close()\n",
    "        \n",
    "app=QApplication(sys.argv)\n",
    "win=Panorama()\n",
    "win.show()\n",
    "app.exec_()"
   ]
  },
  {
   "cell_type": "code",
   "execution_count": null,
   "metadata": {},
   "outputs": [],
   "source": []
  }
 ],
 "metadata": {
  "kernelspec": {
   "display_name": "Python ('cv')",
   "language": "python",
   "name": "python3"
  },
  "language_info": {
   "codemirror_mode": {
    "name": "ipython",
    "version": 3
   },
   "file_extension": ".py",
   "mimetype": "text/x-python",
   "name": "python",
   "nbconvert_exporter": "python",
   "pygments_lexer": "ipython3",
   "version": "3.11.0"
  },
  "orig_nbformat": 4,
  "vscode": {
   "interpreter": {
    "hash": "25a19fbe0a9132dfb9279d48d161753c6352f8f9478c2e74383d340069b907c3"
   }
  }
 },
 "nbformat": 4,
 "nbformat_minor": 2
}
