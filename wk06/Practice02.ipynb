{
 "cells": [
  {
   "cell_type": "code",
   "execution_count": 1,
   "id": "f9dd6c71",
   "metadata": {},
   "outputs": [
    {
     "data": {
      "text/plain": [
       "0"
      ]
     },
     "execution_count": 1,
     "metadata": {},
     "output_type": "execute_result"
    }
   ],
   "source": [
    "from PyQt5.QtWidgets import*\n",
    "import sys\n",
    "import cv2 as cv\n",
    "import numpy as np\n",
    "\n",
    "class Video(QMainWindow):\n",
    "    def __init__(self):\n",
    "        super().__init__()\n",
    "        self.setWindowTitle('비디오에서 프레임 수집')\n",
    "        self.setGeometry(200,200,500,100)\n",
    "        \n",
    "        videoButton=QPushButton('비디오 켜기',self)\n",
    "        captureButton=QPushButton('프레임 잡기',self)\n",
    "        saveButton=QPushButton('프레임 저장',self)\n",
    "        quitButton=QPushButton('나가기',self)\n",
    "        collectButton=QPushButton('여러 프레임 잡기',self) # 콜렉트 버튼과 쇼버튼 추가\n",
    "        showButton=QPushButton('영상 보기',self)\n",
    "        \n",
    "        videoButton.setGeometry(10,10,100,30)  # setGeometry(x, y, width, height)\n",
    "        captureButton.setGeometry(110,10,100,30)\n",
    "        saveButton.setGeometry(210,10,100,30)\n",
    "        quitButton.setGeometry(310,10,100,30)\n",
    "        collectButton.setGeometry(10,40,130,30) # 콜렉트 버튼과 쇼버튼 좌표 설정\n",
    "        showButton.setGeometry(140,40,100,30)\n",
    "        \n",
    "        videoButton.clicked.connect(self.videoFunction)\n",
    "        captureButton.clicked.connect(self.captureFunction)\n",
    "        saveButton.clicked.connect(self.saveFunction)\n",
    "        quitButton.clicked.connect(self.quitFunction)\n",
    "        collectButton.clicked.connect(self.collectFunction) # 콜렉트 버튼은 클릭시 함수 콜렉트펀션 연결하고 쇼버튼도 마찬가지로 함수 쇼펀션 연결\n",
    "        showButton.clicked.connect(self.showFunction)\n",
    "\n",
    "    def showFunction(self):             # 쇼 펀션 함수 추가\n",
    "        stack=cv.resize(self.imgs[0],dsize=(0,0),fx=0.25,fy=0.25)\n",
    "        for i in range(1,len(self.imgs)):\n",
    "            stack=np.hstack((stack,cv.resize(self.imgs[i],dsize=(0,0),fx=0.25,\n",
    "            fy=0.25)))\n",
    "        cv.imshow('Image collection',stack)\n",
    "        \n",
    "    def videoFunction(self):\n",
    "        self.cap=cv.VideoCapture(0,cv.CAP_DSHOW)\n",
    "        if not self.cap.isOpened():self.close()\n",
    "\n",
    "        while True:\n",
    "            ret,self.frame=self.cap.read()\n",
    "            if not ret:break\n",
    "            cv.imshow('video display',self.frame)\n",
    "            cv.waitKey(1)\n",
    "\n",
    "    def captureFunction(self):\n",
    "        self.capturedFrame=self.frame\n",
    "        cv.imshow('Captured Frame',self.capturedFrame)\n",
    "\n",
    "    def saveFunction(self):\n",
    "        fname=QFileDialog.getSaveFileName(self,'파일저장','/')\n",
    "        cv.imwrite(fname[0],self.capturedFrame)\n",
    "\n",
    "    def quitFunction(self):\n",
    "        self.cap.release()\n",
    "        cv.destroyAllWindows()\n",
    "        self.close()\n",
    "\n",
    "    def collectFunction(self):      # 콜렉트 펀션 함수 추가\n",
    "        self.cap=cv.VideoCapture(0,cv.CAP_DSHOW)\n",
    "        if not self.cap.isOpened(): sys.exit('카메라 연결 실패')\n",
    "            \n",
    "        self.imgs=[]\n",
    "        while True:\n",
    "            ret,frame=self.cap.read()\n",
    "            if not ret: break\n",
    "                \n",
    "            cv.imshow('video display',frame)\n",
    "            \n",
    "            key=cv.waitKey(1)\n",
    "            if key==ord('c'):\n",
    "                self.imgs.append(frame)\n",
    "            elif key==ord('q'):\n",
    "                self.cap.release()\n",
    "                cv.destroyWindow('video display')\n",
    "                break\n",
    "                \n",
    "    \n",
    "app=QApplication(sys.argv)\n",
    "win=Video()\n",
    "win.show()\n",
    "app.exec_()"
   ]
  },
  {
   "cell_type": "code",
   "execution_count": null,
   "id": "020d6ae4",
   "metadata": {},
   "outputs": [],
   "source": []
  }
 ],
 "metadata": {
  "kernelspec": {
   "display_name": "Python 3 (ipykernel)",
   "language": "python",
   "name": "python3"
  },
  "language_info": {
   "codemirror_mode": {
    "name": "ipython",
    "version": 3
   },
   "file_extension": ".py",
   "mimetype": "text/x-python",
   "name": "python",
   "nbconvert_exporter": "python",
   "pygments_lexer": "ipython3",
   "version": "3.11.0"
  }
 },
 "nbformat": 4,
 "nbformat_minor": 5
}
