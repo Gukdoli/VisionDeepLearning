{
 "cells": [
  {
   "cell_type": "code",
   "execution_count": 1,
   "id": "20776c52",
   "metadata": {},
   "outputs": [
    {
     "ename": "AttributeError",
     "evalue": "'Video' object has no attribute 'cap'",
     "output_type": "error",
     "traceback": [
      "\u001b[1;31m---------------------------------------------------------------------------\u001b[0m",
      "\u001b[1;31mAttributeError\u001b[0m                            Traceback (most recent call last)",
      "Cell \u001b[1;32mIn[1], line 47\u001b[0m, in \u001b[0;36mVideo.quitFunction\u001b[1;34m(self)\u001b[0m\n\u001b[0;32m     46\u001b[0m \u001b[39mdef\u001b[39;00m \u001b[39mquitFunction\u001b[39m(\u001b[39mself\u001b[39m):\n\u001b[1;32m---> 47\u001b[0m     \u001b[39mself\u001b[39;49m\u001b[39m.\u001b[39;49mcap\u001b[39m.\u001b[39mrelease()\n\u001b[0;32m     48\u001b[0m     cv\u001b[39m.\u001b[39mdestroyAllWindows()\n\u001b[0;32m     49\u001b[0m     \u001b[39mself\u001b[39m\u001b[39m.\u001b[39mclose()\n",
      "\u001b[1;31mAttributeError\u001b[0m: 'Video' object has no attribute 'cap'"
     ]
    },
    {
     "ename": "AttributeError",
     "evalue": "'Video' object has no attribute 'cap'",
     "output_type": "error",
     "traceback": [
      "\u001b[1;31m---------------------------------------------------------------------------\u001b[0m",
      "\u001b[1;31mAttributeError\u001b[0m                            Traceback (most recent call last)",
      "Cell \u001b[1;32mIn[1], line 47\u001b[0m, in \u001b[0;36mVideo.quitFunction\u001b[1;34m(self)\u001b[0m\n\u001b[0;32m     46\u001b[0m \u001b[39mdef\u001b[39;00m \u001b[39mquitFunction\u001b[39m(\u001b[39mself\u001b[39m):\n\u001b[1;32m---> 47\u001b[0m     \u001b[39mself\u001b[39;49m\u001b[39m.\u001b[39;49mcap\u001b[39m.\u001b[39mrelease()\n\u001b[0;32m     48\u001b[0m     cv\u001b[39m.\u001b[39mdestroyAllWindows()\n\u001b[0;32m     49\u001b[0m     \u001b[39mself\u001b[39m\u001b[39m.\u001b[39mclose()\n",
      "\u001b[1;31mAttributeError\u001b[0m: 'Video' object has no attribute 'cap'"
     ]
    },
    {
     "ename": "AttributeError",
     "evalue": "'Video' object has no attribute 'cap'",
     "output_type": "error",
     "traceback": [
      "\u001b[1;31m---------------------------------------------------------------------------\u001b[0m",
      "\u001b[1;31mAttributeError\u001b[0m                            Traceback (most recent call last)",
      "Cell \u001b[1;32mIn[1], line 47\u001b[0m, in \u001b[0;36mVideo.quitFunction\u001b[1;34m(self)\u001b[0m\n\u001b[0;32m     46\u001b[0m \u001b[39mdef\u001b[39;00m \u001b[39mquitFunction\u001b[39m(\u001b[39mself\u001b[39m):\n\u001b[1;32m---> 47\u001b[0m     \u001b[39mself\u001b[39;49m\u001b[39m.\u001b[39;49mcap\u001b[39m.\u001b[39mrelease()\n\u001b[0;32m     48\u001b[0m     cv\u001b[39m.\u001b[39mdestroyAllWindows()\n\u001b[0;32m     49\u001b[0m     \u001b[39mself\u001b[39m\u001b[39m.\u001b[39mclose()\n",
      "\u001b[1;31mAttributeError\u001b[0m: 'Video' object has no attribute 'cap'"
     ]
    },
    {
     "ename": "AttributeError",
     "evalue": "'Video' object has no attribute 'cap'",
     "output_type": "error",
     "traceback": [
      "\u001b[1;31m---------------------------------------------------------------------------\u001b[0m",
      "\u001b[1;31mAttributeError\u001b[0m                            Traceback (most recent call last)",
      "Cell \u001b[1;32mIn[1], line 47\u001b[0m, in \u001b[0;36mVideo.quitFunction\u001b[1;34m(self)\u001b[0m\n\u001b[0;32m     46\u001b[0m \u001b[39mdef\u001b[39;00m \u001b[39mquitFunction\u001b[39m(\u001b[39mself\u001b[39m):\n\u001b[1;32m---> 47\u001b[0m     \u001b[39mself\u001b[39;49m\u001b[39m.\u001b[39;49mcap\u001b[39m.\u001b[39mrelease()\n\u001b[0;32m     48\u001b[0m     cv\u001b[39m.\u001b[39mdestroyAllWindows()\n\u001b[0;32m     49\u001b[0m     \u001b[39mself\u001b[39m\u001b[39m.\u001b[39mclose()\n",
      "\u001b[1;31mAttributeError\u001b[0m: 'Video' object has no attribute 'cap'"
     ]
    },
    {
     "ename": "AttributeError",
     "evalue": "'Video' object has no attribute 'cap'",
     "output_type": "error",
     "traceback": [
      "\u001b[1;31m---------------------------------------------------------------------------\u001b[0m",
      "\u001b[1;31mAttributeError\u001b[0m                            Traceback (most recent call last)",
      "Cell \u001b[1;32mIn[1], line 47\u001b[0m, in \u001b[0;36mVideo.quitFunction\u001b[1;34m(self)\u001b[0m\n\u001b[0;32m     46\u001b[0m \u001b[39mdef\u001b[39;00m \u001b[39mquitFunction\u001b[39m(\u001b[39mself\u001b[39m):\n\u001b[1;32m---> 47\u001b[0m     \u001b[39mself\u001b[39;49m\u001b[39m.\u001b[39;49mcap\u001b[39m.\u001b[39mrelease()\n\u001b[0;32m     48\u001b[0m     cv\u001b[39m.\u001b[39mdestroyAllWindows()\n\u001b[0;32m     49\u001b[0m     \u001b[39mself\u001b[39m\u001b[39m.\u001b[39mclose()\n",
      "\u001b[1;31mAttributeError\u001b[0m: 'Video' object has no attribute 'cap'"
     ]
    },
    {
     "data": {
      "text/plain": [
       "0"
      ]
     },
     "execution_count": 1,
     "metadata": {},
     "output_type": "execute_result"
    }
   ],
   "source": [
    "from PyQt5.QtWidgets import*\n",
    "import sys\n",
    "import cv2 as cv\n",
    "\n",
    "class Video(QMainWindow):\n",
    "    def __init__(self):\n",
    "        super().__init__()\n",
    "        self.setWindowTitle('비디오에서 프레임 수집')\n",
    "        self.setGeometry(200,200,500,100)\n",
    "        \n",
    "        videoButton=QPushButton('비디오 켜기',self)\n",
    "        captureButton=QPushButton('프레임 잡기',self)\n",
    "        saveButton=QPushButton('프레임 저장',self)\n",
    "        quitButton=QPushButton('나가기',self)\n",
    "        \n",
    "        videoButton.setGeometry(10,10,100,30)\n",
    "        captureButton.setGeometry(110,10,100,30)\n",
    "        saveButton.setGeometry(210,10,100,30)\n",
    "        quitButton.setGeometry(310,10,100,30)\n",
    "        \n",
    "        videoButton.clicked.connect(self.videoFunction)\n",
    "        captureButton.clicked.connect(self.captureFunction)\n",
    "        saveButton.clicked.connect(self.saveFunction)\n",
    "        quitButton.clicked.connect(self.quitFunction)\n",
    "        \n",
    "    def videoFunction(self):\n",
    "        self.cap=cv.VideoCapture(0,cv.CAP_DSHOW)\n",
    "        if not self.cap.isOpened():\n",
    "            self.close()\n",
    "\n",
    "        while True:\n",
    "            ret,self.frame=self.cap.read()\n",
    "            if not ret:break\n",
    "            cv.imshow('video display',self.frame)\n",
    "            cv.waitKey(1)\n",
    "        \n",
    "\n",
    "    def captureFunction(self):\n",
    "        self.capturedFrame=self.frame\n",
    "        cv.imshow('Captured Frame',self.capturedFrame)\n",
    "\n",
    "    def saveFunction(self):\n",
    "        fname=QFileDialog.getSaveFileName(self,'파일저장','/')\n",
    "        cv.imwrite(fname[0],self.capturedFrame)\n",
    "\n",
    "    def quitFunction(self):\n",
    "        self.cap.release()\n",
    "        cv.destroyAllWindows()\n",
    "        self.close()\n",
    "    \n",
    "app=QApplication(sys.argv)\n",
    "win=Video()\n",
    "win.show()\n",
    "app.exec_()"
   ]
  },
  {
   "cell_type": "code",
   "execution_count": null,
   "id": "a92c560a",
   "metadata": {},
   "outputs": [],
   "source": []
  }
 ],
 "metadata": {
  "kernelspec": {
   "display_name": "Python 3 (ipykernel)",
   "language": "python",
   "name": "python3"
  },
  "language_info": {
   "codemirror_mode": {
    "name": "ipython",
    "version": 3
   },
   "file_extension": ".py",
   "mimetype": "text/x-python",
   "name": "python",
   "nbconvert_exporter": "python",
   "pygments_lexer": "ipython3",
   "version": "3.11.0"
  }
 },
 "nbformat": 4,
 "nbformat_minor": 5
}
