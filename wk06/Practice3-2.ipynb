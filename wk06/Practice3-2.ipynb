{
 "cells": [
  {
   "cell_type": "code",
   "execution_count": 1,
   "id": "1264c21f",
   "metadata": {},
   "outputs": [
    {
     "name": "stdout",
     "output_type": "stream",
     "text": [
      "페인팅 되지 않아 오림 할수없음\n",
      "페인팅 되지 않아 오림 할수없음\n",
      "페인팅 되지 않아 오림 할수없음\n",
      "페인팅 되지 않아 오림 할수없음\n"
     ]
    },
    {
     "data": {
      "text/plain": [
       "0"
      ]
     },
     "execution_count": 1,
     "metadata": {},
     "output_type": "execute_result"
    }
   ],
   "source": [
    "from PyQt5.QtWidgets import*\n",
    "import sys\n",
    "import cv2 as cv\n",
    "import numpy as np\n",
    "\n",
    "class Orim(QMainWindow):\n",
    "    def __init__(self):\n",
    "        super().__init__()\n",
    "        self.setWindowTitle('오림')\n",
    "        self.setGeometry(200,200,700,200)\n",
    "       \n",
    "        fileButton=QPushButton('파일',self)\n",
    "        paintButton=QPushButton('페인팅',self)\n",
    "        cutButton=QPushButton('오림',self)\n",
    "        incButton=QPushButton('+',self)\n",
    "        decButton=QPushButton('-',self)\n",
    "        saveButton=QPushButton('저장',self)\n",
    "        quitButton=QPushButton('나가기',self)\n",
    "       \n",
    "        fileButton.setGeometry(10,10,100,30)\n",
    "        paintButton.setGeometry(110,10,100,30)\n",
    "        cutButton.setGeometry(210,10,100,30)\n",
    "        incButton.setGeometry(310,10,50,30)\n",
    "        decButton.setGeometry(360,10,50,30)\n",
    "        saveButton.setGeometry(410,10,100,30)\n",
    "        quitButton.setGeometry(510,10,100,30)\n",
    "       \n",
    "        fileButton.clicked.connect(self.fileOpenFunction)\n",
    "        paintButton.clicked.connect(self.paintFunction)\n",
    "        cutButton.clicked.connect(self.cutFunction)\n",
    "        incButton.clicked.connect(self.incFunction)\n",
    "        decButton.clicked.connect(self.decFunction)\n",
    "        saveButton.clicked.connect(self.saveFunction)\n",
    "        quitButton.clicked.connect(self.quitFunction)\n",
    "       \n",
    "        self.BrushSiz=5\n",
    "        self.LColor,self.RColor=(255,0,0),(0,0,255)\n",
    "       \n",
    "    def fileOpenFunction(self): # fileOpenFunction() 메서드는 파일 선택 대화상자를 열어 이미지 파일을 선택하면 해당 이미지 파일을 읽어와 self.img 변수에 저장\n",
    "        fname=QFileDialog.getOpenFileName(self,'Open file>','./')\n",
    "        self.img=cv.imread(fname[0])\n",
    "        if self.img is None:sys.exit('파일을 찾을 수 없습니다.')\n",
    "           \n",
    "        self.img_show=np.copy(self.img)\n",
    "        cv.imshow('Painting',self.img_show)\n",
    "       \n",
    "        self.mask=np.zeros((self.img.shape[0],self.img.shape[1]),np.uint8)\n",
    "        self.mask[:,:]=cv.GC_PR_BGD\n",
    "       \n",
    "    def paintFunction(self):\n",
    "        cv.setMouseCallback('Painting',self.painting)\n",
    "       \n",
    "    def painting(self,event,x,y,flags,param):\n",
    "        if event==cv.EVENT_LBUTTONDOWN:\n",
    "            cv.circle(self.img_show,(x,y),self.BrushSiz,self.LColor,-1)\n",
    "            cv.circle(self.mask,(x,y),self.BrushSiz,cv.GC_FGD,-1)\n",
    "        elif event==cv.EVENT_RBUTTONDOWN:\n",
    "            cv.circle(self.img_show,(x,y),self.BrushSiz,self.RColor,-1)\n",
    "            cv.circle(self.mask,(x,y),self.BrushSiz,cv.GC_BGD,-1)\n",
    "        elif event==cv.EVENT_MOUSEMOVE and flags==cv.EVENT_FLAG_LBUTTON:\n",
    "            cv.circle(self.img_show,(x,y),self.BrushSiz,self.LColor,-1)\n",
    "            cv.circle(self.mask,(x,y),self.BrushSiz,cv.GC_FGD,-1)\n",
    "        elif event==cv.EVENT_MOUSEMOVE and flags==cv.EVENT_FLAG_RBUTTON:\n",
    "            cv.circle(self.img_show,(x,y),self.BrushSiz,self.RColor,-1)\n",
    "            cv.circle(self.mask,(x,y),self.BrushSiz,cv.GC_BGD,-1)\n",
    "        cv.imshow('Painting',self.img_show)\n",
    "   \n",
    "    def cutFunction(self):\n",
    "        background = np.zeros((1,65),np.float64)\n",
    "        foreground = np.zeros((1,65),np.float64)   # try - except를 사용해 오류 메세지를 무시하고 오류해결 방안을 프린트 되게 했음\n",
    "        try:\n",
    "            cv.grabCut(self.img, self.mask, None, background, foreground, 5, cv.GC_INIT_WITH_MASK)\n",
    "        except:\n",
    "            print('페인팅 되지 않아 오림 할수없음')\n",
    "            return\n",
    "        mask2 = np.where((self.mask==2)|(self.mask==0), 0, 1).astype('uint8')\n",
    "        self.grabImg = self.img*mask2[:,:,np.newaxis]\n",
    "        cv.imshow('Scissoring', self.grabImg)\n",
    "       \n",
    "    def incFunction(self):\n",
    "        self.BrushSiz=min(20,self.BrushSiz+1)\n",
    "       \n",
    "    def decFunction(self):\n",
    "        self.BrushSiz=max(1,self.BrushSiz-1)\n",
    "       \n",
    "    def saveFunction(self):\n",
    "        fname=QFileDialog.getSaveFileName(self,'파일저장','./')\n",
    "        cv.imwrite(fname[0],self.grabImg)\n",
    "       \n",
    "    def quitFunction(self):\n",
    "        cv.destroyAllWindows()\n",
    "        self.close()\n",
    "       \n",
    "app=QApplication(sys.argv)\n",
    "win=Orim()\n",
    "win.show()\n",
    "app.exec_()"
   ]
  },
  {
   "cell_type": "code",
   "execution_count": null,
   "id": "3cafd081",
   "metadata": {},
   "outputs": [],
   "source": []
  },
  {
   "cell_type": "code",
   "execution_count": null,
   "id": "d993468c",
   "metadata": {},
   "outputs": [],
   "source": []
  }
 ],
 "metadata": {
  "kernelspec": {
   "display_name": "Python ('cv2')",
   "language": "python",
   "name": "python3"
  },
  "language_info": {
   "codemirror_mode": {
    "name": "ipython",
    "version": 3
   },
   "file_extension": ".py",
   "mimetype": "text/x-python",
   "name": "python",
   "nbconvert_exporter": "python",
   "pygments_lexer": "ipython3",
   "version": "3.11.0"
  },
  "vscode": {
   "interpreter": {
    "hash": "25a19fbe0a9132dfb9279d48d161753c6352f8f9478c2e74383d340069b907c3"
   }
  }
 },
 "nbformat": 4,
 "nbformat_minor": 5
}
