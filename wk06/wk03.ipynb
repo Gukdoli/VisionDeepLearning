{
 "cells": [
  {
   "cell_type": "code",
   "execution_count": 1,
   "id": "1264c21f",
   "metadata": {},
   "outputs": [
    {
     "ename": "",
     "evalue": "",
     "output_type": "error",
     "traceback": [
      "\u001b[1;31mCanceled future for execute_request message before replies were done"
     ]
    },
    {
     "ename": "",
     "evalue": "",
     "output_type": "error",
     "traceback": [
      "\u001b[1;31m현재 셀 또는 이전 셀에서 코드를 실행하는 동안 Kernel이 충돌했습니다. 셀의 코드를 검토하여 오류의 가능한 원인을 식별하세요. 자세한 내용을 보려면 <a href='https://aka.ms/vscodeJupyterKernelCrash'> 여기 </a> 를 클릭하세요. 자세한 내용은 Jupyter <a href='command:jupyter.viewOutput'>로그</a>를 참조하세요."
     ]
    }
   ],
   "source": [
    "from PyQt5.QtWidgets import*\n",
    "import sys\n",
    "import cv2 as cv\n",
    "import numpy as np\n",
    "\n",
    "class Orim(QMainWindow):\n",
    "    def __init__(self):\n",
    "        super().__init__()\n",
    "        self.setWindowTitle('오림')\n",
    "        self.setGeometry(200,200,700,200)\n",
    "       \n",
    "        fileButton=QPushButton('파일',self)\n",
    "        paintButton=QPushButton('페인팅',self)\n",
    "        cutButton=QPushButton('오림',self)\n",
    "        incButton=QPushButton('+',self)\n",
    "        decButton=QPushButton('-',self)\n",
    "        saveButton=QPushButton('저장',self)\n",
    "        quitButton=QPushButton('나가기',self)\n",
    "       \n",
    "        fileButton.setGeometry(10,10,100,30)\n",
    "        paintButton.setGeometry(110,10,100,30)\n",
    "        cutButton.setGeometry(210,10,100,30)\n",
    "        incButton.setGeometry(310,10,50,30)\n",
    "        decButton.setGeometry(360,10,50,30)\n",
    "        saveButton.setGeometry(410,10,100,30)\n",
    "        quitButton.setGeometry(510,10,100,30)\n",
    "       \n",
    "        fileButton.clicked.connect(self.fileOpenFunction)\n",
    "        paintButton.clicked.connect(self.paintFunction)\n",
    "        cutButton.clicked.connect(self.cutFunction)\n",
    "        incButton.clicked.connect(self.incFunction)\n",
    "        decButton.clicked.connect(self.decFunction)\n",
    "        saveButton.clicked.connect(self.saveFunction)\n",
    "        quitButton.clicked.connect(self.quitFunction)\n",
    "       \n",
    "        self.BrushSiz=5\n",
    "        self.LColor,self.RColor=(255,0,0),(0,0,255)\n",
    "       \n",
    "    def fileOpenFunction(self):\n",
    "        fname=QFileDialog.getOpenFileName(self,'Open file>','./')\n",
    "        self.img=cv.imread(fname[0])\n",
    "        if self.img is None:sys.exit('파일을 찾을 수 없습니다.')\n",
    "           \n",
    "        self.img_show=np.copy(self.img)\n",
    "        cv.imshow('Painting',self.img_show)\n",
    "       \n",
    "        self.mask=np.zeros((self.img.shape[0],self.img.shape[1]),np.uint8)\n",
    "        self.mask[:,:]=cv.GC_PR_BGD\n",
    "       \n",
    "    def paintFunction(self):\n",
    "        cv.setMouseCallback('Painting',self.painting)\n",
    "       \n",
    "    def painting(self,event,x,y,flags,param):\n",
    "        if event==cv.EVENT_LBUTTONDOWN:\n",
    "            cv.circle(self.img_show,(x,y),self.BrushSiz,self.LColor,-1)\n",
    "            cv.circle(self.mask,(x,y),self.BrushSiz,cv.GC_FGD,-1)\n",
    "        elif event==cv.EVENT_RBUTTONDOWN:\n",
    "            cv.circle(self.img_show,(x,y),self.BrushSiz,self.RColor,-1)\n",
    "            cv.circle(self.mask,(x,y),self.BrushSiz,cv.GC_BGD,-1)\n",
    "        elif event==cv.EVENT_MOUSEMOVE and flags==cv.EVENT_FLAG_LBUTTON:\n",
    "            cv.circle(self.img_show,(x,y),self.BrushSiz,self.LColor,-1)\n",
    "            cv.circle(self.mask,(x,y),self.BrushSiz,cv.GC_FGD,-1)\n",
    "        elif event==cv.EVENT_MOUSEMOVE and flags==cv.EVENT_FLAG_RBUTTON:\n",
    "            cv.circle(self.img_show,(x,y),self.BrushSiz,self.RColor,-1)\n",
    "            cv.circle(self.mask,(x,y),self.BrushSiz,cv.GC_BGD,-1)\n",
    "        cv.imshow('Painting',self.img_show)\n",
    "   \n",
    "    def cutFunction(self):\n",
    "        background=np.zeros((1,65),np.float64)\n",
    "        foreground=np.zeros((1,65),np.float64)\n",
    "        cv.grabCut(self.img,self.mask,None,background,foreground,5,cv.GC_INIT_WITH_MASK)\n",
    "        mask2=np.where((self.mask==2)|(self.mask==0),0,1).astype('uint8')\n",
    "        self.grabImg=self.img*mask2[:,:,np.newaxis]\n",
    "        cv.imshow('Scissoring',self.grabImg)\n",
    "       \n",
    "    def incFunction(self):\n",
    "        self.BrushSiz=min(20,self.BrushSiz+1)\n",
    "       \n",
    "    def decFunction(self):\n",
    "        self.BrushSiz=max(1,self.BrushSiz-1)\n",
    "       \n",
    "    def saveFunction(self):\n",
    "        fname=QFileDialog.getSaveFileName(self,'파일저장','./')\n",
    "        cv.imwrite(fname[0],self.grabImg)\n",
    "       \n",
    "    def quitFunction(self):\n",
    "        cv.destroyAllWindows()\n",
    "        self.close()\n",
    "       \n",
    "app=QApplication(sys.argv)\n",
    "win=Orim()\n",
    "win.show()\n",
    "app.exec_()"
   ]
  },
  {
   "cell_type": "code",
   "execution_count": 1,
   "id": "3cafd081",
   "metadata": {},
   "outputs": [
    {
     "ename": "SyntaxError",
     "evalue": "invalid syntax (1816117070.py, line 1)",
     "output_type": "error",
     "traceback": [
      "\u001b[1;36m  Cell \u001b[1;32mIn[1], line 1\u001b[1;36m\u001b[0m\n\u001b[1;33m    71 cv.grabCut(self.img,self.mask,None,background,foreground,5,cv.GC_INIT_WITH_MASK) 에서 오류가 발생하고\u001b[0m\n\u001b[1;37m       ^\u001b[0m\n\u001b[1;31mSyntaxError\u001b[0m\u001b[1;31m:\u001b[0m invalid syntax\n"
     ]
    }
   ],
   "source": []
  },
  {
   "cell_type": "code",
   "execution_count": null,
   "id": "d993468c",
   "metadata": {},
   "outputs": [],
   "source": []
  }
 ],
 "metadata": {
  "kernelspec": {
   "display_name": "Python ('cv2')",
   "language": "python",
   "name": "python3"
  },
  "language_info": {
   "codemirror_mode": {
    "name": "ipython",
    "version": 3
   },
   "file_extension": ".py",
   "mimetype": "text/x-python",
   "name": "python",
   "nbconvert_exporter": "python",
   "pygments_lexer": "ipython3",
   "version": "3.11.0"
  },
  "vscode": {
   "interpreter": {
    "hash": "25a19fbe0a9132dfb9279d48d161753c6352f8f9478c2e74383d340069b907c3"
   }
  }
 },
 "nbformat": 4,
 "nbformat_minor": 5
}
