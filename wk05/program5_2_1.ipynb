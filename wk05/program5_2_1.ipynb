{
 "cells": [
  {
   "cell_type": "code",
   "execution_count": 6,
   "metadata": {},
   "outputs": [],
   "source": [
    "import cv2 as cv\n",
    "\n",
    "img = cv.imread('apples.jpg')\n",
    "gray = cv.cvtColor(img, cv.COLOR_BGR2GRAY)\n",
    "\n",
    "sift = cv.SIFT_create()\n",
    "\n",
    "num_kp_list = [2**i for i in range(1, 10)]\n",
    "\n",
    "for i, num_kp in enumerate(num_kp_list):\n",
    "    kp, des = sift.detectAndCompute(gray, None)\n",
    "    kp = sorted(kp, key=lambda x: -x.response)[:num_kp]\n",
    "    des = des[:num_kp]\n",
    "\n",
    "    img_kp = cv.drawKeypoints(gray, kp, None, flags=cv.DRAW_MATCHES_FLAGS_DRAW_RICH_KEYPOINTS)\n",
    "\n",
    "\n",
    "    win_name = f'SIFT with {num_kp} keypoints'\n",
    "    cv.namedWindow(win_name, cv.WINDOW_NORMAL)\n",
    "    cv.imshow(win_name, img_kp)\n",
    "    cv.waitKey(0)\n",
    "    cv.destroyAllWindows()"
   ]
  },
  {
   "cell_type": "code",
   "execution_count": null,
   "metadata": {},
   "outputs": [],
   "source": []
  }
 ],
 "metadata": {
  "kernelspec": {
   "display_name": "cv",
   "language": "python",
   "name": "python3"
  },
  "language_info": {
   "codemirror_mode": {
    "name": "ipython",
    "version": 3
   },
   "file_extension": ".py",
   "mimetype": "text/x-python",
   "name": "python",
   "nbconvert_exporter": "python",
   "pygments_lexer": "ipython3",
   "version": "3.11.0"
  },
  "orig_nbformat": 4
 },
 "nbformat": 4,
 "nbformat_minor": 2
}
