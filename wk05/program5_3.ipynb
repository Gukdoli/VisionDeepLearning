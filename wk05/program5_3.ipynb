{
 "cells": [
  {
   "cell_type": "code",
   "execution_count": 1,
   "metadata": {},
   "outputs": [
    {
     "name": "stdout",
     "output_type": "stream",
     "text": [
      "특징점 개수: 462 4627\n"
     ]
    },
    {
     "ename": "NameError",
     "evalue": "name 'start' is not defined",
     "output_type": "error",
     "traceback": [
      "\u001b[1;31m---------------------------------------------------------------------------\u001b[0m",
      "\u001b[1;31mNameError\u001b[0m                                 Traceback (most recent call last)",
      "Cell \u001b[1;32mIn[1], line 15\u001b[0m\n\u001b[0;32m     12\u001b[0m kp2,des2\u001b[39m=\u001b[39msift\u001b[39m.\u001b[39mdetectAndCompute(gray2,\u001b[39mNone\u001b[39;00m)\n\u001b[0;32m     13\u001b[0m \u001b[39mprint\u001b[39m(\u001b[39m'\u001b[39m\u001b[39m특징점 개수:\u001b[39m\u001b[39m'\u001b[39m,\u001b[39mlen\u001b[39m(kp1),\u001b[39mlen\u001b[39m(kp2))\n\u001b[1;32m---> 15\u001b[0m start\u001b[39m-\u001b[39mtime\u001b[39m.\u001b[39mtime()\n\u001b[0;32m     16\u001b[0m flann_matcher\u001b[39m=\u001b[39mcv\u001b[39m.\u001b[39mDescriptorMatcher_create(cv\u001b[39m.\u001b[39mDescriptorMatcher_FLANNBASED) \u001b[39m# FLANN(OpenCV의 빠른 최근접 이웃 검색) 알고리즘을 사용하여, 두 이미지의 디스크립터를 매칭\u001b[39;00m\n\u001b[0;32m     17\u001b[0m knn_match\u001b[39m=\u001b[39mflann_matcher\u001b[39m.\u001b[39mknnMatch(des1,des2,\u001b[39m2\u001b[39m)\n",
      "\u001b[1;31mNameError\u001b[0m: name 'start' is not defined"
     ]
    }
   ],
   "source": [
    "import cv2 as cv\n",
    "import numpy as np\n",
    "import time\n",
    "\n",
    "img1=cv.imread('1.jpg')\n",
    "gray1=cv.cvtColor(img1,cv.COLOR_BGR2GRAY)\n",
    "img2=cv.imread('2.jpg')\n",
    "gray2=cv.cvtColor(img2,cv.COLOR_BGR2GRAY)\n",
    "\n",
    "sift=cv.SIFT_create()  # SIFT 알고리즘을 사용하여, 각 이미지에서 특징점과 디스크립터를 추출합니다.\n",
    "kp1,des1=sift.detectAndCompute(gray1,None)\n",
    "kp2,des2=sift.detectAndCompute(gray2,None)\n",
    "print('특징점 개수:',len(kp1),len(kp2))\n",
    "\n",
    "start=time.time()\n",
    "flann_matcher=cv.DescriptorMatcher_create(cv.DescriptorMatcher_FLANNBASED) # FLANN(OpenCV의 빠른 최근접 이웃 검색) 알고리즘을 사용하여, 두 이미지의 디스크립터를 매칭\n",
    "knn_match=flann_matcher.knnMatch(des1,des2,2)\n",
    "\n",
    "T=0.7\n",
    "good_match=[]\n",
    "for nearest1,nearest2 in knn_match:  # knn 매칭 결과에서, 최근접 이웃과 두 번째로 가까운 이웃 간의 거리 비율이 T 이하인 경우를 좋은 매칭으로 판단\n",
    "    if (nearest1.distance/nearest2.distance)<T:\n",
    "        good_match.append(nearest1)\n",
    "print('매칭에 걸린 시간:', time.time()-start)\n",
    "\n",
    "img_match=np.empty((max(img1.shape[0],img2.shape[0]),img1.shape[1]+img2.shape[1],3),dtype=np.uint8) # 좋은 매칭 결과를 사용하여, 두 이미지를 이어 붙인 후, 매칭된 특징점을 그립니다.\n",
    "cv.drawMatches(img1,kp1,img2,kp2,good_match,img_match,flags=cv.DrawMatchesFlags_NOT_DRAW_SINGLE_POINTS)\n",
    "\n",
    "cv.imshow('Matches and Homography',img_match)\n",
    "\n",
    "\n",
    "k=cv.waitKey()\n",
    "cv.destroyAllWindows()"
   ]
  },
  {
   "cell_type": "code",
   "execution_count": null,
   "metadata": {},
   "outputs": [],
   "source": []
  }
 ],
 "metadata": {
  "kernelspec": {
   "display_name": "cv",
   "language": "python",
   "name": "python3"
  },
  "language_info": {
   "codemirror_mode": {
    "name": "ipython",
    "version": 3
   },
   "file_extension": ".py",
   "mimetype": "text/x-python",
   "name": "python",
   "nbconvert_exporter": "python",
   "pygments_lexer": "ipython3",
   "version": "3.11.0"
  },
  "orig_nbformat": 4,
  "vscode": {
   "interpreter": {
    "hash": "170b8bc5b44f59143e2534768db7371fe25ea5cdf7de0c88fc0712bf16eab0ba"
   }
  }
 },
 "nbformat": 4,
 "nbformat_minor": 2
}
