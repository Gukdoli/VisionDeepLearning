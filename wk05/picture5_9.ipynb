{
 "cells": [
  {
   "cell_type": "code",
   "execution_count": 7,
   "metadata": {},
   "outputs": [],
   "source": [
    "import cv2 as cv\n",
    "import numpy as np\n",
    "\n",
    "img = cv.imread('apples.jpg', cv.IMREAD_GRAYSCALE)\n",
    "\n",
    "# Gaussian pyramid\n",
    "G = img.copy()\n",
    "Gaussian_images = [G]\n",
    "for i in range(6):\n",
    "    G = cv.pyrDown(G)\n",
    "    Gaussian_images.append(G)\n",
    "\n",
    "# Difference of Gaussian (DoG) pyramid\n",
    "DOG_images = []\n",
    "for i in range(5):\n",
    "    G_up = cv.resize(Gaussian_images[i], (Gaussian_images[i+1].shape[1], Gaussian_images[i+1].shape[0]))\n",
    "    dog = cv.subtract(Gaussian_images[i+1], G_up)\n",
    "    DOG_images.append(dog)\n",
    "\n",
    "# Display Gaussian and DoG pyramids\n",
    "for i in range(6):\n",
    "    cv.imshow(f\"Gaussian Image {i+1}\", Gaussian_images[i])\n",
    "\n",
    "for i in range(5):\n",
    "    cv.imshow(f\"DoG Image {i+1}\", DOG_images[i])\n",
    "\n",
    "cv.waitKey(0)\n",
    "cv.destroyAllWindows()"
   ]
  },
  {
   "cell_type": "code",
   "execution_count": null,
   "metadata": {},
   "outputs": [],
   "source": []
  }
 ],
 "metadata": {
  "kernelspec": {
   "display_name": "cv",
   "language": "python",
   "name": "python3"
  },
  "language_info": {
   "codemirror_mode": {
    "name": "ipython",
    "version": 3
   },
   "file_extension": ".py",
   "mimetype": "text/x-python",
   "name": "python",
   "nbconvert_exporter": "python",
   "pygments_lexer": "ipython3",
   "version": "3.11.0"
  },
  "orig_nbformat": 4
 },
 "nbformat": 4,
 "nbformat_minor": 2
}
