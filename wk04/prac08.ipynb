{
 "cells": [
  {
   "cell_type": "code",
   "execution_count": 4,
   "id": "362b9170",
   "metadata": {},
   "outputs": [],
   "source": [
    "import cv2 \n",
    "  \n",
    "img = cv2.imread(\"soccer.jpg\") \n",
    "threshold1 = 0\n",
    "threshold2 = 360\n",
    "aperture_size = 5 \n",
    "L2Gradient = True \n",
    "\n",
    "edge = cv2.Canny(img, threshold1, threshold2,\n",
    "                 apertureSize = aperture_size, \n",
    "                 L2gradient = L2Gradient ) \n",
    "\n",
    "cv2.imshow('edge', edge)\n",
    "cv2.waitKey(0)\n",
    "cv2.destroyAllWindows()"
   ]
  },
  {
   "cell_type": "code",
   "execution_count": null,
   "id": "5d272d24",
   "metadata": {},
   "outputs": [],
   "source": [
    "#image: 에지 검출을 수행할 입력 이미지.\n",
    "\n",
    "#edges: 에지 검출 결과를 저장할 출력 이미지.\n",
    "\n",
    "#threshold1: 에지 검출에서 하위 임계값으로 사용됩니다. 이 임계값보다 낮은 그레디언트 값은 에지로 간주되지 않음 (임계값 = 경계가 되는 기준 값)\n",
    "\n",
    "#threshold2: 에지 검출에서 상위 임계값으로 사용됩니다. 이 임계값보다 높은 그레디언트 값은 에지로 간주됨\n",
    "\n",
    "#apertureSize: 그래디언트를 계산하기 위한 Sobel 연산자의 크기. 3, 5, 7 중에서 선택 가능합니다.\n",
    "\n",
    "#L2gradient: L2 그래디언트를 사용하여 gradient 크기를 계산할 것인지를 나타냅니다. 기본값은 False이며 L1 그래디언트가 사용됩니다.\n",
    "\n",
    "# 그레디언트 크기는 각 픽셀에서 그레디언트 벡터의 크기를 의미하며 그레디언트는 이미지의 각 픽셀에서 밝기의 변화량를 의미함"
   ]
  }
 ],
 "metadata": {
  "kernelspec": {
   "display_name": "Python 3 (ipykernel)",
   "language": "python",
   "name": "python3"
  },
  "language_info": {
   "codemirror_mode": {
    "name": "ipython",
    "version": 3
   },
   "file_extension": ".py",
   "mimetype": "text/x-python",
   "name": "python",
   "nbconvert_exporter": "python",
   "pygments_lexer": "ipython3",
   "version": "3.11.0"
  }
 },
 "nbformat": 4,
 "nbformat_minor": 5
}
