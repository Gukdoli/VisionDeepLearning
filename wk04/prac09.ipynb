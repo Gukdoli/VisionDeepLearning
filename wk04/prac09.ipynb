{
 "cells": [
  {
   "cell_type": "code",
   "execution_count": 5,
   "id": "fae64b61",
   "metadata": {},
   "outputs": [],
   "source": [
    "import skimage\n",
    "import numpy as np\n",
    "import cv2 as cv\n",
    "\n",
    "img=skimage.data.coffee()\n",
    "\n",
    "slic1=skimage.segmentation.slic(img,compactness=20,n_segments=600)\n",
    "sp_img1=skimage.segmentation.mark_boundaries(img,slic1)\n",
    "sp_img1=np.uint8(sp_img1*255.0)\n",
    "\n",
    "slic2=skimage.segmentation.slic(img,compactness=40,n_segments=1000)\n",
    "sp_img2=skimage.segmentation.mark_boundaries(img,slic2)\n",
    "sp_img2=np.uint8(sp_img2*255.0)\n",
    "\n",
    "# compactness는 SLIC 알고리즘에서 경계 추정을 수행하는 데 사용되는 매개변수이며 값이 작을수록 경계가 더욱 부드러워지며,\n",
    "#  큰 값일수록 경계가 더욱 선명해집니다. 일반적으로 compactness는 10~40 사이의 값을 사용한다.\n",
    "\n",
    "# 세그먼트는 이미지에서 유사한 특징을 가진 픽셀들의 집합\n",
    "# SLIC 알고리즘이 생성할 세그먼트(segment)의 수를 결정하는 매개변수입니다. \n",
    "# n_segments 값이 크면 입력 이미지가 더 작은 그룹으로 분할되어 더 많은 세그먼트가 생성됩니다. \n",
    "# 반면, n_segments 값이 작으면 입력 이미지가 더 큰 그룹으로 분할되어 더 적은 세그먼트가 생성됩니다.\n",
    "\n",
    "\n",
    "cv.imshow('Super pixels (compact 20)',cv.cvtColor(sp_img1,cv.COLOR_RGB2BGR))\n",
    "cv.imshow('Super pixels (compact 40)',cv.cvtColor(sp_img2,cv.COLOR_RGB2BGR))\n",
    "\n",
    "\n",
    "cv.waitKey()\n",
    "cv.destroyAllWindows()"
   ]
  },
  {
   "cell_type": "code",
   "execution_count": null,
   "id": "8e0d5076",
   "metadata": {},
   "outputs": [],
   "source": []
  },
  {
   "cell_type": "code",
   "execution_count": null,
   "id": "6b51ff0c",
   "metadata": {},
   "outputs": [],
   "source": []
  }
 ],
 "metadata": {
  "kernelspec": {
   "display_name": "Python 3 (ipykernel)",
   "language": "python",
   "name": "python3"
  },
  "language_info": {
   "codemirror_mode": {
    "name": "ipython",
    "version": 3
   },
   "file_extension": ".py",
   "mimetype": "text/x-python",
   "name": "python",
   "nbconvert_exporter": "python",
   "pygments_lexer": "ipython3",
   "version": "3.11.0"
  }
 },
 "nbformat": 4,
 "nbformat_minor": 5
}
