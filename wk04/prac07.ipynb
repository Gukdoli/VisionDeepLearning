{
 "cells": [
  {
   "cell_type": "code",
   "execution_count": 3,
   "id": "6b39879c",
   "metadata": {},
   "outputs": [],
   "source": [
    "import cv2 as cv\n",
    "\n",
    "img=cv.imread('soccer.jpg')\n",
    "gray=cv.cvtColor(img,cv.COLOR_BGR2GRAY)\n",
    "\n",
    "grad_x=cv.Sobel(gray,cv.CV_32F,1,0,ksize=3)\t# 소벨 연산자는 소벨 필터는 중심 픽셀의 차분 비중을 두 배로 준 필터입니다. \n",
    "                                            #따라서 소벨 필터는 x축, y축, 대각선 방향의 경계 검출에 모두 강합니다\n",
    "grad_y=cv.Sobel(gray,cv.CV_32F,0,1,ksize=3) # ksize 커널의 크기\n",
    "\n",
    "grab_x=cv.Scharr(gray,cv.CV_32F,1,0)   # 에지는 밝기가 급격하게  변하는 부분 ,경계선, 윤곽선\n",
    "grab_y=cv.Scharr(gray,cv.CV_32F,0,1)   # 샤르 연산자는 소벨 연산자와 유사하지만 더 정확하게 에지 검출을 위해 설계됨 (소벨 연산자의 업그레이드 버젼)\n",
    "                                        # 소벨 미분의 경우 커널의 크기가 작으면 정확도가 떨어지는데, 크기가 작은 3×3의 소벨 미분의 경우\n",
    "                                        #  기울기(Gradient)의 각도가 수평이나 수직에서 멀어질수록 정확도가 떨어집니다.\n",
    "                                        # 이를 보완하고자 샤르 필터를 사용합니다. 샤르 필터는 커널의 크기가 3x3 크기만 지원\n",
    "\n",
    "                                        # 커널의 크기가 작을수록, 더 많은 미분 계산이 필요하게 됩니다.\n",
    "                                        #  이 경우, 이웃한 픽셀의 정보를 무시하고 미분을 계산하게 되므로 정확도가 떨어질 수 있습\n",
    "\n",
    "                                        # 에지 검출(Edge Detection)이란 에지에 해당하는 화소(edge pixels)를 찾는 과정이다.\n",
    "                                        # 소벨 연산자보다 더 정확한 영상을 필요로 할때 샤르를 쓴다.\n",
    "                                        # CV_32F 는 32비트 실수\n",
    "\n",
    "sobel_x=cv.convertScaleAbs(grad_x)\t# 절대값을 취해 양수 영상으로 변환\n",
    "sobel_y=cv.convertScaleAbs(grad_y)\n",
    "\n",
    "scharr_x=cv.convertScaleAbs(grab_x)\t# 절대값을 취해 양수 영상으로 변환\n",
    "scharr_y=cv.convertScaleAbs(grab_y)\n",
    "\n",
    "edge_strength=cv.addWeighted(sobel_x,0.5,sobel_y,0.5,0)\t# 에지 강도 계산 (가중치 합, 평균 연산)\n",
    "                                                        # 가중치는 전체 집단에서 개별 구성요소가 차지하는 비중이나 중요도를 수치로 나타낸 값\n",
    "\n",
    "cv.imshow('Original',gray)\n",
    "cv.imshow('sobelx',sobel_x)\n",
    "cv.imshow('sobely',sobel_y)\n",
    "cv.imshow('scharrx',scharr_x)\n",
    "cv.imshow('scharry',scharr_y)\n",
    "\n",
    "cv.waitKey()\n",
    "cv.destroyAllWindows()"
   ]
  },
  {
   "cell_type": "code",
   "execution_count": null,
   "id": "6fbd7898",
   "metadata": {},
   "outputs": [],
   "source": []
  }
 ],
 "metadata": {
  "kernelspec": {
   "display_name": "Python 3 (ipykernel)",
   "language": "python",
   "name": "python3"
  },
  "language_info": {
   "codemirror_mode": {
    "name": "ipython",
    "version": 3
   },
   "file_extension": ".py",
   "mimetype": "text/x-python",
   "name": "python",
   "nbconvert_exporter": "python",
   "pygments_lexer": "ipython3",
   "version": "3.11.0"
  }
 },
 "nbformat": 4,
 "nbformat_minor": 5
}
