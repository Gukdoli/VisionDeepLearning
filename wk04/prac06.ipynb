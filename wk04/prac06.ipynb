{
 "cells": [
  {
   "cell_type": "code",
   "execution_count": 7,
   "id": "abe3da0b",
   "metadata": {},
   "outputs": [],
   "source": [
    "import cv2 as cv \n",
    "import numpy as np\n",
    "\n",
    "img=cv.imread('soccer.jpg')\n",
    "img_show=np.copy(img)\n",
    "\n",
    "mask=np.zeros((img.shape[0],img.shape[1]),np.uint8) \n",
    "mask[:,:]=cv.GC_PR_BGD# 모든 화소를 배경일 것 같음으로 초기화\n",
    "\n",
    "BrushSiz=9\n",
    "LColor,RColor=(255,0,0),(0,0,255)\n",
    "\n",
    "def painting(event,x,y,flags,param):\n",
    "    if event==cv.EVENT_LBUTTONDOWN:   \n",
    "        cv.circle(img_show,(x,y),BrushSiz,LColor,-1)\n",
    "        cv.circle(mask,(x,y),BrushSiz,cv.GC_FGD,-1)\n",
    "    elif event==cv.EVENT_RBUTTONDOWN: \n",
    "        cv.circle(img_show,(x,y),BrushSiz,RColor,-1)\n",
    "        cv.circle(mask,(x,y),BrushSiz,cv.GC_BGD,-1)\n",
    "    elif event==cv.EVENT_MOUSEMOVE and flags==cv.EVENT_FLAG_LBUTTON:\n",
    "        cv.circle(img_show,(x,y),BrushSiz,LColor,-1)\n",
    "        cv.circle(mask,(x,y),BrushSiz,cv.GC_FGD,-1)\n",
    "    elif event==cv.EVENT_MOUSEMOVE and flags==cv.EVENT_FLAG_RBUTTON:\n",
    "        cv.circle(img_show,(x,y),BrushSiz,RColor,-1)\n",
    "        cv.circle(mask,(x,y),BrushSiz,cv.GC_BGD,-1)\n",
    "\n",
    "    cv.imshow('Painting',img_show)\n",
    "    \n",
    "cv.namedWindow('Painting')\n",
    "cv.setMouseCallback('Painting',painting)\n",
    "\n",
    "while(True):\t\t\t\t# 붓 칠을 끝내려면 'q' 키를 누름\n",
    "    if cv.waitKey(1)==ord('q'): \n",
    "        break\n",
    "\n",
    "# 여기부터 GrabCut 적용하는 코드\n",
    "background=np.zeros((1,65),np.float64)\t# 배경 히스토그램 0으로 초기화\n",
    "foreground=np.zeros((1,65),np.float64)\t# 물체 히스토그램 0으로 초기화\n",
    "\n",
    "cv.grabCut(img,mask,None,background,foreground,5,cv.GC_INIT_WITH_MASK)\n",
    "mask2=np.where((mask==cv.GC_BGD)|(mask==cv.GC_PR_BGD),0,1).astype('uint8')\n",
    "grab=img*mask2[:,:,np.newaxis]\n",
    "cv.imshow('Grab cut image',grab)  \n",
    "\n",
    "cv.waitKey()\n",
    "cv.destroyAllWindows()\n",
    "\n",
    "# 인수5는 GrabCut 알고리즘을 5번 수행됨을 의미하고. \n",
    "# 반복 횟수가 적을수록 처리 속도는 빠르지만 선수와 배경을 보다 정확하게 분리의하는것의 정확도는 낮아질 수 있다."
   ]
  },
  {
   "cell_type": "code",
   "execution_count": null,
   "id": "6f2256a2",
   "metadata": {},
   "outputs": [],
   "source": []
  }
 ],
 "metadata": {
  "kernelspec": {
   "display_name": "Python 3 (ipykernel)",
   "language": "python",
   "name": "python3"
  },
  "language_info": {
   "codemirror_mode": {
    "name": "ipython",
    "version": 3
   },
   "file_extension": ".py",
   "mimetype": "text/x-python",
   "name": "python",
   "nbconvert_exporter": "python",
   "pygments_lexer": "ipython3",
   "version": "3.11.0"
  }
 },
 "nbformat": 4,
 "nbformat_minor": 5
}
