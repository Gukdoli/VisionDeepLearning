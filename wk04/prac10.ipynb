{
 "cells": [
  {
   "cell_type": "code",
   "execution_count": 16,
   "id": "f99b4bf6",
   "metadata": {},
   "outputs": [],
   "source": [
    "import cv2 as cv \n",
    "import numpy as np\n",
    "\n",
    "img=cv.imread('soccer.jpg')    # 영상 읽기\n",
    "img_show=np.copy(img)        # 붓 칠을 디스플레이할 목적의 영상\n",
    "\n",
    "mask=np.zeros((img.shape[0],img.shape[1]),np.uint8) \n",
    "mask[:,:]=cv.GC_PR_BGD        # 모든 화소를 배경일 것 같음으로 초기화\n",
    "\n",
    "BrushSiz=9              # 붓의 크기\n",
    "LColor,RColor=(255,0,0),(0,0,255)    # 파란색(물체)과 빨간색(배경)\n",
    "\n",
    "def painting(event,x,y,flags,param):\n",
    "    if event==cv.EVENT_LBUTTONDOWN:   \n",
    "        cv.circle(img_show,(x,y),BrushSiz,LColor,-1)    # 왼쪽 버튼 클릭하면 파란색\n",
    "        cv.circle(mask,(x,y),BrushSiz,cv.GC_FGD,-1)\n",
    "    elif event==cv.EVENT_RBUTTONDOWN: \n",
    "        cv.circle(img_show,(x,y),BrushSiz,RColor,-1)    # 오른쪽 버튼 클릭하면 빨간색\n",
    "        cv.circle(mask,(x,y),BrushSiz,cv.GC_BGD,-1)\n",
    "    elif event==cv.EVENT_MOUSEMOVE and flags==cv.EVENT_FLAG_LBUTTON:\n",
    "        cv.circle(img_show,(x,y),BrushSiz,LColor,-1)# 왼쪽 버튼 클릭하고 이동하면 파란색\n",
    "        cv.circle(mask,(x,y),BrushSiz,cv.GC_FGD,-1)\n",
    "    elif event==cv.EVENT_MOUSEMOVE and flags==cv.EVENT_FLAG_RBUTTON:\n",
    "        cv.circle(img_show,(x,y),BrushSiz,RColor,-1)    # 오른쪽 버튼 클릭하고 이동하면 빨간색\n",
    "        cv.circle(mask,(x,y),BrushSiz,cv.GC_BGD,-1)\n",
    "\n",
    "    cv.imshow('Painting',img_show)\n",
    "\n",
    "# grabcut 함수로 정의\n",
    "def Grabcut(img, mask):\n",
    "    background=np.zeros((1,65),np.float64)    # 배경 히스토그램 0으로 초기화\n",
    "    foreground=np.zeros((1,65),np.float64)    # 물체 히스토그램 0으로 초기화\n",
    "\n",
    "    cv.grabCut(img,mask,None,background,foreground,1,cv.GC_INIT_WITH_MASK)\n",
    "    mask2=np.where((mask==cv.GC_BGD)|(mask==cv.GC_PR_BGD),0,1).astype('uint8')\n",
    "    grab=img*mask2[:,:,np.newaxis]\n",
    "    cv.imshow('Grab cut image',grab)  \n",
    "\n",
    "cv.namedWindow('Painting')\n",
    "cv.setMouseCallback('Painting',painting)\n",
    "\n",
    "while(True):\n",
    "    cv.imshow('Painting',img_show)\n",
    "    k = cv.waitKey(1)\n",
    "\n",
    "    if k == ord('r'):  # r 누를시 Grabcut 함수 적용\n",
    "        Grabcut(img, mask)\n",
    "    elif k == ord('q'):  # q 누를시 break\n",
    "        break\n",
    "\n",
    "cv.destroyAllWindows()"
   ]
  },
  {
   "cell_type": "code",
   "execution_count": null,
   "id": "ed90331c",
   "metadata": {},
   "outputs": [],
   "source": []
  }
 ],
 "metadata": {
  "kernelspec": {
   "display_name": "Python 3 (ipykernel)",
   "language": "python",
   "name": "python3"
  },
  "language_info": {
   "codemirror_mode": {
    "name": "ipython",
    "version": 3
   },
   "file_extension": ".py",
   "mimetype": "text/x-python",
   "name": "python",
   "nbconvert_exporter": "python",
   "pygments_lexer": "ipython3",
   "version": "3.9.12"
  }
 },
 "nbformat": 4,
 "nbformat_minor": 5
}
